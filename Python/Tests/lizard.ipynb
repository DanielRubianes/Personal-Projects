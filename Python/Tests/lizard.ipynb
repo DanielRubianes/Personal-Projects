{
 "cells": [
  {
   "cell_type": "code",
   "execution_count": 9,
   "metadata": {},
   "outputs": [
    {
     "name": "stdout",
     "output_type": "stream",
     "text": [
      "5\n"
     ]
    }
   ],
   "source": [
    "EMPTY = list()\n",
    "\n",
    "class StationPoint():\n",
    "    station = None\n",
    "\n",
    "    def __init__(self, station: str=None):\n",
    "        self.station = station\n",
    "\n",
    "    def _average_station(self, values: list=[]):\n",
    "        if values:\n",
    "            return int( sum(values) / len(values) )\n",
    "        else:\n",
    "            return None\n",
    "\n",
    "    def __add__(self, other):\n",
    "        return self._average_station([self.station, other.station])\n",
    "    \n",
    "STA1 = StationPoint(0)\n",
    "STA2 = StationPoint(10)\n",
    "\n",
    "print(STA1 + STA2)"
   ]
  }
 ],
 "metadata": {
  "kernelspec": {
   "display_name": "Python 3",
   "language": "python",
   "name": "python3"
  },
  "language_info": {
   "codemirror_mode": {
    "name": "ipython",
    "version": 3
   },
   "file_extension": ".py",
   "mimetype": "text/x-python",
   "name": "python",
   "nbconvert_exporter": "python",
   "pygments_lexer": "ipython3",
   "version": "3.11.5"
  }
 },
 "nbformat": 4,
 "nbformat_minor": 2
}
