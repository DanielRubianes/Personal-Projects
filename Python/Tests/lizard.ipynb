{
 "cells": [
  {
   "cell_type": "code",
   "execution_count": 25,
   "metadata": {},
   "outputs": [
    {
     "name": "stdout",
     "output_type": "stream",
     "text": [
      "['Stationing', 'ProFeature', 'testField', 'SHAPE@']\n",
      "[370, ', , ', None, 'TEST']\n",
      "<Station point at station: 370 with features , ,  and shape: TEST>\n",
      "Stationing: 370\n",
      "ProFeature: , , \n",
      "testField: None\n",
      "SHAPE@: TEST\n"
     ]
    }
   ],
   "source": [
    "import arcpy\n",
    "from dataclasses import dataclass\n",
    "\n",
    "# An object that represents a list of features found at a given station\n",
    "# __dict__ to return a dictionary of all the fields\n",
    "# fields to return user defined list of fields\n",
    "# __list__ to return a list of field values in order\n",
    "\n",
    "FEET = arcpy.LinearUnitConversionFactor(\"Feet\", \"Meters\")\n",
    "\n",
    "class Feature:\n",
    "    \"\"\"Class for single feature objects\"\"\"\n",
    "    path: str\n",
    "    fields: list[str]\n",
    "    _default_values: list[str]\n",
    "\n",
    "    def __init__(self, path=None, fields=[], default_values={}):\n",
    "\n",
    "        # Object attributes\n",
    "        self.path = path\n",
    "        self.fields = fields\n",
    "        self._default_values = default_values\n",
    "\n",
    "        # List all fields in the feature class\n",
    "        self._all_fields = [field.name.replace('Shape', 'SHAPE@') \n",
    "                            for field in arcpy.ListFields(self.path)]\n",
    "        \n",
    "        # Test for missing fields\n",
    "        if set(fields) <= set(self._all_fields):\n",
    "            self.row = {field: self._default_values.get(field, None)\n",
    "                        for field in self.fields}\n",
    "        else:\n",
    "            # Raise error showing which field(s) are missing\n",
    "            badFields = [field \n",
    "                         for field in fields \n",
    "                         if field not in self._all_fields]\n",
    "            raise ValueError(f\"Fields: {badFields} were not found in {self.path}!\")\n",
    "     \n",
    "    def cursorRow(self):\n",
    "        return list(self.row.values())\n",
    "    \n",
    "    # Get value from field\n",
    "    def __getitem__(self, field):\n",
    "        return self.row[field]\n",
    "    \n",
    "    # Set value for field\n",
    "    def __setitem__(self, field, new_value):\n",
    "        self.row[field] = new_value\n",
    "    \n",
    "class StationPoint(Feature):\n",
    "\n",
    "    _default_values = {\n",
    "        \"ProFeature\": \", , \"\n",
    "    }\n",
    "\n",
    "    # Initialize first with default values, then with specified values\n",
    "    def __init__(self, path, fields, stationing):\n",
    "        super().__init__(path, fields, self._default_values)\n",
    "        self['Stationing'] = stationing\n",
    "\n",
    "    # \n",
    "    def __repr__(self):\n",
    "        return f\"<Station point at station: {self['Stationing']} with features {self['ProFeature']} and shape: {self['SHAPE@']}>\"\n",
    "\n",
    "centerPoint = None\n",
    "path = r\"C:\\\\Users\\\\danda\\\\OneDrive\\\\Documents\\\\ArcGIS\\\\Projects\\\\COH\\\\Profile_Builder.gdb\\\\Profile_StationPoints\"\n",
    "\n",
    "STA = StationPoint(path, ['Stationing', 'ProFeature', 'testField', 'SHAPE@'], 370)\n",
    "\n",
    "STA['SHAPE@'] = 'TEST'\n",
    "\n",
    "print(STA.fields)\n",
    "print(STA.cursorRow())\n",
    "print(STA)\n",
    "for field in STA.fields:\n",
    "    print(f\"{field}: {STA[field]}\")\n"
   ]
  },
  {
   "cell_type": "code",
   "execution_count": null,
   "metadata": {},
   "outputs": [],
   "source": []
  },
  {
   "cell_type": "code",
   "execution_count": null,
   "metadata": {},
   "outputs": [],
   "source": []
  }
 ],
 "metadata": {
  "kernelspec": {
   "display_name": "Python 3",
   "language": "python",
   "name": "python3"
  },
  "language_info": {
   "codemirror_mode": {
    "name": "ipython",
    "version": 3
   },
   "file_extension": ".py",
   "mimetype": "text/x-python",
   "name": "python",
   "nbconvert_exporter": "python",
   "pygments_lexer": "ipython3",
   "version": "3.9.18"
  }
 },
 "nbformat": 4,
 "nbformat_minor": 2
}
